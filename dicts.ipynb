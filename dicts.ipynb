{
 "cells": [
  {
   "cell_type": "markdown",
   "source": [
    "# Warm Up 1\n",
    "Füge im Notebook eine neue Zelle für Code und eine für Markdown ein.\n",
    "Teste verschiedene Formatierungen in der Markdown Zelle und führe in der Code Zelle eine einfache Berechnung aus.\n",
    "\n",
    "Doku für die Markdown Syntax findest du zum Beispiel [hier](https://jupyter-notebook.readthedocs.io/en/stable/examples/Notebook/Working%20With%20Markdown%20Cells.html)."
   ],
   "metadata": {
    "collapsed": false,
    "pycharm": {
     "name": "#%% md\n"
    }
   }
  },
  {
   "cell_type": "markdown",
   "source": [
    "# Warm Up 2\n",
    "Erstelle zwei gleich lange Listen:\n",
    "\n",
    "Die erste Liste enthält Ländernnamen\n",
    "`countries = [\"France\", \"USA\", ...]`\n",
    "\n",
    "Die zweite die zugehörigen Hauptstädte:\n",
    "`capitals = [\"Paris\", \"Washington\", ...]`\n",
    "\n",
    "Der Index für das Land und seine Hauptstadt müssen gleich sein.\n",
    "\n",
    "`countries[0] --> 'France'`\n",
    "\n",
    "`capitals[0] --> 'Paris'`\n",
    "\n",
    "Schreibe eine Function mit der für ein Land die Hauptstadt zurückgegeben wird.\n",
    "Später sehen wir, wie dies mit *Dictionaries* einfacher gelöst wird."
   ],
   "metadata": {
    "collapsed": false,
    "pycharm": {
     "name": "#%% md\n"
    }
   }
  },
  {
   "cell_type": "code",
   "execution_count": null,
   "outputs": [],
   "source": [
    "countries = [] # TODO\n",
    "capitals = [] # TODO"
   ],
   "metadata": {
    "collapsed": false,
    "pycharm": {
     "name": "#%%\n"
    }
   }
  },
  {
   "cell_type": "code",
   "execution_count": null,
   "outputs": [],
   "source": [
    "def get_capital(country, countries, capitals):\n",
    "    pass # TODO: Implementiere die Logik"
   ],
   "metadata": {
    "collapsed": false,
    "pycharm": {
     "name": "#%%\n"
    }
   }
  },
  {
   "cell_type": "code",
   "execution_count": null,
   "outputs": [],
   "source": [
    "assert get_capital(\"France\", countries, capitals) == \"Paris\", \"The capital of France should be Paris\""
   ],
   "metadata": {
    "collapsed": false,
    "pycharm": {
     "name": "#%%\n"
    }
   }
  },
  {
   "cell_type": "markdown",
   "metadata": {
    "collapsed": true,
    "pycharm": {
     "name": "#%% md\n"
    }
   },
   "source": [
    "# Dicts\n",
    "Neben Listen sind Dictionaries die 2. wichtigste Datenstruktur in Python. Sie erlauben Werte zusammen mit einem Schlüssel abzulegen.\n",
    "Über den Schlüssel können die Werte (falls vorhanden) nachgeschlagen werden.\n",
    "\n",
    "## Dicts Übungen\n",
    "Erstelle einen `dict` für die folgenden Länder und Hauptstädte:\n",
    "\n",
    "| *key* | *value* |\n",
    "|:--|:--|\n",
    "| United Kingdom | London |\n",
    "| France | Paris |\n",
    "| USA | Washington |\n",
    "| Japan | Tokyo |"
   ]
  },
  {
   "cell_type": "code",
   "execution_count": null,
   "metadata": {
    "pycharm": {
     "name": "#%%\n"
    }
   },
   "outputs": [],
   "source": [
    "# TODO: initialisiere den dictionary capitals\n",
    "capitals = {} # TODO"
   ]
  },
  {
   "cell_type": "code",
   "execution_count": null,
   "metadata": {},
   "outputs": [],
   "source": [
    "# Tests:\n",
    "assert len(capitals) == 4, f\"capitals should contain 4 entries, but there are only {len(capitals)}\"\n",
    "assert capitals[\"United Kingdom\"] == \"London\""
   ]
  },
  {
   "cell_type": "code",
   "execution_count": null,
   "outputs": [],
   "source": [
    "# TODO: Welche Länder sind in capitals? Tipp: Keys eines Dicts können mit <a_dict>.keys() abgefragt werden\n",
    "keys = \"TODO\""
   ],
   "metadata": {
    "collapsed": false,
    "pycharm": {
     "name": "#%%\n"
    }
   }
  },
  {
   "cell_type": "code",
   "execution_count": null,
   "outputs": [],
   "source": [
    "# TODO: Welche Hauptstädte sind in capitals? Tipp: Values eines Dicts können mit <a_dict>.values() abgefragt werden\n",
    "values = \"TODO\""
   ],
   "metadata": {
    "collapsed": false,
    "pycharm": {
     "name": "#%%\n"
    }
   }
  },
  {
   "cell_type": "code",
   "execution_count": null,
   "outputs": [],
   "source": [
    "# TODO: Hole mit dem []-Operator einzelne Hauptstädte aus capitals\n",
    "# Was passiert wenn ein ungültiger Key verwendet wird?\n",
    "# Vergleiche den []-Operator mit dict.get(key)\n",
    "capitals[\"TODO\"]\n",
    "capitals.get(\"TODO\")"
   ],
   "metadata": {
    "collapsed": false,
    "pycharm": {
     "name": "#%%\n"
    }
   }
  },
  {
   "cell_type": "markdown",
   "source": [
    "Schreibe eine Function, die alle Länder und ihre Hauptstädte mit `print()` ausgibt."
   ],
   "metadata": {
    "collapsed": false,
    "pycharm": {
     "name": "#%% md\n"
    }
   }
  },
  {
   "cell_type": "code",
   "execution_count": null,
   "outputs": [],
   "source": [
    "def print_capitals(capitals):\n",
    "    pass # TODO\n",
    "\n",
    "print_capitals(capitals)"
   ],
   "metadata": {
    "collapsed": false,
    "pycharm": {
     "name": "#%%\n"
    }
   }
  },
  {
   "cell_type": "markdown",
   "source": [
    "Füge neue Hauptstädte in `capitals` ein.\n",
    "Dies kann auch mit dem []-Operator erledigt werden:\n",
    "\n",
    "```\n",
    "a_dict[<new_key>] = <new_value>\n",
    "```"
   ],
   "metadata": {
    "collapsed": false,
    "pycharm": {
     "name": "#%% md\n"
    }
   }
  },
  {
   "cell_type": "code",
   "execution_count": null,
   "outputs": [],
   "source": [
    "# TODO: Füge 1 neue Hauptstädt mit dem []-Operator ein"
   ],
   "metadata": {
    "collapsed": false,
    "pycharm": {
     "name": "#%%\n"
    }
   }
  },
  {
   "cell_type": "markdown",
   "source": [
    "Weiter können auch neue Einträge mit `dict.update()`\n",
    "\n",
    "```\n",
    "a_dict.update(<new_key>=<new_value>)\n",
    "\n",
    "a_dict.update(<another_dict>)\n",
    "```\n",
    "\n",
    "eingefügt werden."
   ],
   "metadata": {
    "collapsed": false,
    "pycharm": {
     "name": "#%% md\n"
    }
   }
  },
  {
   "cell_type": "code",
   "source": [
    "# TODO: Füge 1 weitere Hauptstadt mit dem update ein"
   ],
   "metadata": {
    "collapsed": false,
    "pycharm": {
     "name": "#%%\n"
    }
   },
   "execution_count": null,
   "outputs": []
  },
  {
   "cell_type": "code",
   "execution_count": null,
   "outputs": [],
   "source": [
    "# TODO: Erstelle einen 2. dict mit Länder und Städten und erweitere capitals mit diesem."
   ],
   "metadata": {
    "collapsed": false,
    "pycharm": {
     "name": "#%%\n"
    }
   }
  },
  {
   "cell_type": "markdown",
   "source": [
    "Einträge in einem Dict können mit `del dict[key]` gelöscht werden.\n",
    "Lösche Key und Value für ein Land."
   ],
   "metadata": {
    "collapsed": false
   }
  },
  {
   "cell_type": "code",
   "execution_count": null,
   "outputs": [],
   "source": [
    "# TODO"
   ],
   "metadata": {
    "collapsed": false,
    "pycharm": {
     "name": "#%%\n"
    }
   }
  },
  {
   "cell_type": "markdown",
   "source": [
    "Was macht `dict.clear()?`"
   ],
   "metadata": {
    "collapsed": false,
    "pycharm": {
     "name": "#%% md\n"
    }
   }
  },
  {
   "cell_type": "code",
   "execution_count": null,
   "outputs": [],
   "source": [
    "# TODO"
   ],
   "metadata": {
    "collapsed": false,
    "pycharm": {
     "name": "#%%\n"
    }
   }
  },
  {
   "cell_type": "code",
   "execution_count": null,
   "outputs": [],
   "source": [
    "assert len(capitals) == 0\n"
   ],
   "metadata": {
    "collapsed": false,
    "pycharm": {
     "name": "#%%\n"
    }
   }
  },
  {
   "cell_type": "markdown",
   "source": [
    "Dictionaries können auch verschachtelt werden und unterschiedliche Daten-Typen enthalten.\n",
    "Erstelle einen Dict `country_details`, welcher als `Key` den Landsnamen hat als `Value` aber einen weiteren Dict `details`:\n",
    "\n",
    "`country_details`:\n",
    "\n",
    "| *key* | *value* |\n",
    "|:--|:--|\n",
    "| `<Land>` | `<details>` |\n",
    "\n",
    "`details`:\n",
    "\n",
    "| *key* | *value* |\n",
    "|:--|:--|\n",
    "| `currency` | `<str>` |\n",
    "| `population` | `<int>` |\n",
    "| `area` | `<double>` |\n",
    "| `languages` | `<list>` |\n",
    "| `neighbours` | `<list>` |"
   ],
   "metadata": {
    "collapsed": false
   }
  },
  {
   "cell_type": "code",
   "execution_count": null,
   "outputs": [],
   "source": [
    "country_details = {}\n",
    "details = {}"
   ],
   "metadata": {
    "collapsed": false,
    "pycharm": {
     "name": "#%%\n"
    }
   }
  },
  {
   "cell_type": "markdown",
   "source": [
    "Schreibe eine Funktion `print_details` welche pro Land alle Details ausgibt"
   ],
   "metadata": {
    "collapsed": false,
    "pycharm": {
     "name": "#%% md\n"
    }
   }
  },
  {
   "cell_type": "code",
   "execution_count": null,
   "outputs": [],
   "source": [
    "def print_details(c):\n",
    "    pass # TODO: pass durch logik ersetzen\n",
    "\n",
    "print_details(country_details)"
   ],
   "metadata": {
    "collapsed": false,
    "pycharm": {
     "name": "#%%\n"
    }
   }
  }
 ],
 "metadata": {
  "kernelspec": {
   "display_name": "Python 3",
   "language": "python",
   "name": "python3"
  },
  "language_info": {
   "codemirror_mode": {
    "name": "ipython",
    "version": 3
   },
   "file_extension": ".py",
   "mimetype": "text/x-python",
   "name": "python",
   "nbconvert_exporter": "python",
   "pygments_lexer": "ipython3",
   "version": "3.7.7"
  }
 },
 "nbformat": 4,
 "nbformat_minor": 1
}